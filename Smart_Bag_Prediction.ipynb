{
  "nbformat": 4,
  "nbformat_minor": 0,
  "metadata": {
    "colab": {
      "name": "Smart Bag - Prediction.ipynb",
      "provenance": []
    },
    "kernelspec": {
      "name": "python3",
      "display_name": "Python 3"
    },
    "language_info": {
      "name": "python"
    }
  },
  "cells": [
    {
      "cell_type": "code",
      "metadata": {
        "id": "5-kYYYj8thQv"
      },
      "source": [
        "import pandas as pd\n",
        "import numpy as np\n",
        "import tempfile\n",
        "import tensorflow as tf"
      ],
      "execution_count": null,
      "outputs": []
    },
    {
      "cell_type": "code",
      "metadata": {
        "colab": {
          "base_uri": "https://localhost:8080/"
        },
        "id": "6_jsz_mvQudG",
        "outputId": "757f9acb-761d-41b7-eb46-6049c31c86ea"
      },
      "source": [
        "from google.colab import drive\n",
        "drive.mount('/content/drive')"
      ],
      "execution_count": null,
      "outputs": [
        {
          "output_type": "stream",
          "name": "stdout",
          "text": [
            "Mounted at /content/drive\n"
          ]
        }
      ]
    },
    {
      "cell_type": "code",
      "metadata": {
        "colab": {
          "base_uri": "https://localhost:8080/"
        },
        "id": "WEimT5vfPLIo",
        "outputId": "fba7475d-ee35-446e-f8b0-6137ffdf2252"
      },
      "source": [
        "def FrontPage():\n",
        "  # Loading the orders data frame\n",
        "  ords = pd.read_csv('drive/My Drive/Flipkart Grid/orders.csv').drop(columns = ['Unnamed: 0'])\n",
        "  ords['User'] = ords['User'].astype(str)\n",
        "  ords['Item ID'] = ords['Item ID'].astype(str)\n",
        "\n",
        "  # Loading the products data frame\n",
        "  products = pd.read_csv('drive/My Drive/Flipkart Grid/products.csv').drop(columns = ['Unnamed: 0']) \n",
        "  products['Item ID'] = products['Item ID'].astype(str)\n",
        "\n",
        "  display = {}\n",
        "  \n",
        "  # Most Purchased Products\n",
        "  display['Popular'] = ords[['Order ID', 'Item ID']].groupby(by = 'Item ID').count().sort_values(by = 'Order ID', ascending = False).index.tolist()[:10]\n",
        "  \n",
        "  # Biggest Discounts\n",
        "  discounts = products.nlargest(10, ['Discount']).values\n",
        "  display['Top Discounts'] = [i[0] for i in discounts]\n",
        "\n",
        "  # Sponsored products\n",
        "  sponsored = products[products['Sponsored'] == True].sample(frac = 1).values[:10]\n",
        "  display['Sponsored'] = [i[0] for i in sponsored]\n",
        "\n",
        "  return display\n",
        "FrontPage()"
      ],
      "execution_count": null,
      "outputs": [
        {
          "output_type": "execute_result",
          "data": {
            "text/plain": [
              "{'Popular': ['153', '127', '61', '87', '81', '101', '77', '102', '195', '78'],\n",
              " 'Sponsored': ['202',\n",
              "  '26',\n",
              "  '279',\n",
              "  '105',\n",
              "  '267',\n",
              "  '124',\n",
              "  '269',\n",
              "  '85',\n",
              "  '141',\n",
              "  '178'],\n",
              " 'Top Discounts': ['131',\n",
              "  '166',\n",
              "  '183',\n",
              "  '277',\n",
              "  '165',\n",
              "  '2',\n",
              "  '12',\n",
              "  '28',\n",
              "  '31',\n",
              "  '36']}"
            ]
          },
          "metadata": {},
          "execution_count": 16
        }
      ]
    },
    {
      "cell_type": "code",
      "metadata": {
        "id": "gL_kP30mH1ID"
      },
      "source": [
        "def SmartBagRecommendations(user_number):\n",
        "  with tempfile.TemporaryDirectory() as tmp:\n",
        "    path = 'drive/My Drive/Flipkart Grid/TFRS_model'\n",
        "\n",
        "    # Load it back; can also be done in TensorFlow Serving.\n",
        "    loaded = tf.saved_model.load(path)\n",
        "\n",
        "    # Pass a user id in, get top predicted products back.\n",
        "    scores, titles = loaded([user_number])\n",
        "    \n",
        "    # Loading the orders data frame\n",
        "    ords = pd.read_csv('drive/My Drive/Flipkart Grid/orders.csv').drop(columns = ['Unnamed: 0'])\n",
        "    ords['User'] = ords['User'].astype(str)\n",
        "    ords['Item ID'] = ords['Item ID'].astype(str)\n",
        "\n",
        "    # Loading the products data frame\n",
        "    products = pd.read_csv('drive/My Drive/Flipkart Grid/products.csv').drop(columns = ['Unnamed: 0']) \n",
        "    products['Item ID'] = products['Item ID'].astype(str)\n",
        "\n",
        "    rec_ids = []\n",
        "    for rec in titles[0]:\n",
        "      rec_ids.append(products[products['Item ID'] == np.array(rec).astype(str)].values[0][0])\n",
        "\n",
        "    recommendations = {}\n",
        "    if len(ords[ords['User'] == user_number]) > 0:\n",
        "      # Initializing the dictionary of labeled predictions\n",
        "\n",
        "      # Adding model's top 10 predictions to the 'top' list\n",
        "      recommendations['top'] = rec_ids\n",
        "\n",
        "      # Adding the 2 most frequently ordered products\n",
        "      user_data = ords[ords.User == user_number]\n",
        "      frequent = user_data['Item ID'].value_counts().index.tolist()[:3]\n",
        "      values = list(user_data['Item ID'].value_counts())\n",
        "      recommendations['most_bought'] = frequent\n",
        "\n",
        "      # Adding discount/larger/sponsored product recommendations\n",
        "      recommendations['discounted'], recommendations['bigger'], recommendations['sponsored'] = [], [], []\n",
        "      user_data = user_data.merge(products, on = 'Item ID')\n",
        "      freq_types = user_data['Type'].value_counts().index.tolist()[:3]\n",
        "      for ptype in freq_types:\n",
        "        subset = products[products['Type'] == ptype]\n",
        "        disc = str(subset['Discount'].idxmax())\n",
        "        biggest = str(subset['Quantity'].idxmax())\n",
        "        spons = subset[subset['Sponsored'] == True].values\n",
        "        if subset[subset['Item ID'] == disc].values[0][-3]: recommendations['discounted'].append(disc)\n",
        "        recommendations['bigger'].append(biggest)\n",
        "        if len(spons) > 0: recommendations['sponsored'].append(spons[0][0])\n",
        "\n",
        "    else:\n",
        "      recommendations = {'model_based': rec_ids}\n",
        "      pop = ords[['Order ID', 'Item ID']].groupby(by = 'Item ID').count().sort_values(by = 'Order ID', ascending = False).index.tolist()[:10]\n",
        "      recommendations['data_based'] = pop\n",
        "    return recommendations"
      ],
      "execution_count": null,
      "outputs": []
    },
    {
      "cell_type": "code",
      "metadata": {
        "colab": {
          "base_uri": "https://localhost:8080/"
        },
        "id": "vsdDTUMOM8Sz",
        "outputId": "3222be16-2ebe-447c-fb4f-d129a78dbd98"
      },
      "source": [
        "%%time\n",
        "SmartBagRecommendations(\"777\")"
      ],
      "execution_count": null,
      "outputs": [
        {
          "output_type": "stream",
          "name": "stdout",
          "text": [
            "CPU times: user 313 ms, sys: 16.4 ms, total: 330 ms\n",
            "Wall time: 338 ms\n"
          ]
        },
        {
          "output_type": "execute_result",
          "data": {
            "text/plain": [
              "{'bigger': ['246', '38', '54'],\n",
              " 'discounted': ['246', '36', '54'],\n",
              " 'most_bought': ['40', '52', '119'],\n",
              " 'sponsored': ['249'],\n",
              " 'top': ['288', '163', '40', '100', '192', '29', '250', '252', '178', '52']}"
            ]
          },
          "metadata": {},
          "execution_count": 25
        }
      ]
    },
    {
      "cell_type": "code",
      "metadata": {
        "colab": {
          "base_uri": "https://localhost:8080/"
        },
        "id": "ZXJVVMUIM8Ya",
        "outputId": "a5ed0986-2d58-4228-e2be-56fe34099a0d"
      },
      "source": [
        "%%time\n",
        "SmartBagRecommendations(\"2000\")"
      ],
      "execution_count": null,
      "outputs": [
        {
          "output_type": "stream",
          "name": "stdout",
          "text": [
            "CPU times: user 281 ms, sys: 8.91 ms, total: 290 ms\n",
            "Wall time: 299 ms\n"
          ]
        },
        {
          "output_type": "execute_result",
          "data": {
            "text/plain": [
              "{'data_based': ['153',\n",
              "  '127',\n",
              "  '61',\n",
              "  '87',\n",
              "  '81',\n",
              "  '101',\n",
              "  '77',\n",
              "  '102',\n",
              "  '195',\n",
              "  '78'],\n",
              " 'model_based': ['74',\n",
              "  '176',\n",
              "  '189',\n",
              "  '279',\n",
              "  '22',\n",
              "  '186',\n",
              "  '89',\n",
              "  '281',\n",
              "  '37',\n",
              "  '26']}"
            ]
          },
          "metadata": {},
          "execution_count": 26
        }
      ]
    }
  ]
}